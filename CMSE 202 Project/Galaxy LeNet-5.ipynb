{
 "cells": [
  {
   "cell_type": "code",
   "execution_count": 1,
   "metadata": {},
   "outputs": [],
   "source": [
    "from torch.utils.data import DataLoader\n",
    "import torch\n",
    "import torch.nn as nn\n",
    "import torch.nn.functional as F\n",
    "import torchvision\n",
    "import numpy as np\n",
    "from matplotlib import pyplot as plt\n",
    "import torchvision.transforms as transforms\n",
    "\n",
    "transform = transforms.Compose([\n",
    "    transforms.Resize(300),\n",
    "    transforms.ToTensor()\n",
    "])\n",
    "\n",
    "trainimageset = torchvision.datasets.ImageFolder(\"C:/Users/gwies/Documents/Programming Projects/cmse202project/Data/Train\",\n",
    "    transform = transform)\n",
    "\n",
    "trainimagesloader = DataLoader(\n",
    "    trainimageset,\n",
    "    batch_size=50,\n",
    "    shuffle=True,\n",
    "    num_workers=0,\n",
    "    collate_fn=None,\n",
    "    pin_memory=False\n",
    " )\n",
    "\n",
    "classes = ('C2.1','C2.2','C7.1','C7.2','C7.3')\n"
   ]
  },
  {
   "cell_type": "code",
   "execution_count": 2,
   "metadata": {},
   "outputs": [],
   "source": [
    "testimageset = torchvision.datasets.ImageFolder(\"C:/Users/gwies/Documents/Programming Projects/cmse202project/Data/Validation\",\n",
    "    transform = transform)\n",
    "\n",
    "testimagesloader = DataLoader(\n",
    "    trainimageset,\n",
    "    batch_size=50,\n",
    "    shuffle=True,\n",
    "    num_workers=0,\n",
    "    collate_fn=None,\n",
    "    pin_memory=False\n",
    " )\n"
   ]
  },
  {
   "cell_type": "code",
   "execution_count": 3,
   "metadata": {},
   "outputs": [
    {
     "name": "stdout",
     "output_type": "stream",
     "text": [
      "CNet(\n",
      "  (conv1): Conv2d(3, 40, kernel_size=(5, 5), stride=(1, 1))\n",
      "  (pool): MaxPool2d(kernel_size=2, stride=2, padding=0, dilation=1, ceil_mode=False)\n",
      "  (conv2): Conv2d(40, 60, kernel_size=(5, 5), stride=(1, 1))\n",
      "  (fc1): Linear(in_features=311040, out_features=120, bias=True)\n",
      "  (fc2): Linear(in_features=120, out_features=84, bias=True)\n",
      "  (fc3): Linear(in_features=84, out_features=5, bias=True)\n",
      ")\n"
     ]
    }
   ],
   "source": [
    "class CNet(nn.Module):\n",
    "\n",
    "    def __init__(self):\n",
    "        super(CNet, self).__init__()\n",
    "        self.conv1 = nn.Conv2d(3, 40, 5) # First Conv Net 3 -> 20\n",
    "        self.pool = nn.MaxPool2d( 2,  2) # MAX Pool Net Kernel == 2, Step == 2\n",
    "        self.conv2 = nn.Conv2d(40, 60, 5) # Second Conv Net 20 -> 60\n",
    "        self.fc1 = nn.Linear(60*72*72,120) #Fully connected layer num -> 120\n",
    "        self.fc2 = nn.Linear(120, 84) #Fully connected layer 120 -> 84\n",
    "        self.fc3 = nn.Linear(84,5) #Fully connected layer 84 -> 5 (outputs)\n",
    "\n",
    "    def forward(self, x):\n",
    "        x = self.pool(F.relu(self.conv1(x)))\n",
    "        x = self.pool(F.relu(self.conv2(x)))\n",
    "        x = x.view(x.size(0), -1) #flatten\n",
    "        x = F.relu(self.fc1(x))\n",
    "        x = F.relu(self.fc2(x))\n",
    "        x = self.fc3(x)\n",
    "        return x       \n",
    "\n",
    "model = CNet()\n",
    "optimizer = torch.optim.SGD(model.parameters(), lr=0.001, momentum = .9) # Standard Optimizer\n",
    "criterion = nn.CrossEntropyLoss() #softmax activation function is included in this function\n",
    "\n",
    "model = model.cuda() # Push Model to GPU\n",
    "criterion= criterion.cuda() # Push criterion to GPU\n",
    "\n",
    "print(model)"
   ]
  },
  {
   "cell_type": "code",
   "execution_count": 4,
   "metadata": {},
   "outputs": [
    {
     "name": "stdout",
     "output_type": "stream",
     "text": [
      "Finished Training\n"
     ]
    }
   ],
   "source": [
    "loss_vals = []\n",
    "for epoch in range(20): \n",
    "    epoch_loss = []\n",
    "\n",
    "    for i, data in enumerate(trainimagesloader, 0):\n",
    "        inputs, labels = data # Take inputs and labels out of loader\n",
    "        inputs = inputs.cuda() # Push inputs to GPU\n",
    "        labels = labels.cuda() # Push labels to GPU\n",
    "\n",
    "        # CLEAR MEMORY\n",
    "        optimizer.zero_grad()\n",
    "\n",
    "        # FWD + BACK PASSES WITH SGD OPTIMIZER\n",
    "        outputs = model(inputs)\n",
    "        loss = criterion(outputs, labels)\n",
    "        loss.backward()\n",
    "        epoch_loss.append(loss.item())\n",
    "        optimizer.step()\n",
    "    loss_vals.append(sum(epoch_loss)/len(epoch_loss))\n",
    "\n",
    "\n",
    "print('Finished Training')"
   ]
  },
  {
   "cell_type": "code",
   "execution_count": 5,
   "metadata": {
    "scrolled": true
   },
   "outputs": [
    {
     "name": "stdout",
     "output_type": "stream",
     "text": [
      "Accuracy of the network on some test images: 83 %\n"
     ]
    }
   ],
   "source": [
    "correct = 0\n",
    "total = 0\n",
    "with torch.no_grad():\n",
    "    for data in testimagesloader:\n",
    "        images, labels = data\n",
    "        images = images.cuda() # Push inputs to GPU\n",
    "        labels = labels.cuda() # Push labels to GPU\n",
    "        outputs = model(images)\n",
    "        _, predicted = torch.max(outputs.data, 1)\n",
    "        total += labels.size(0)\n",
    "        correct += (predicted == labels).sum().item()\n",
    "\n",
    "print('Accuracy of the network on some test images: %d %%' % (\n",
    "    100 * correct / total))"
   ]
  },
  {
   "cell_type": "code",
   "execution_count": 6,
   "metadata": {},
   "outputs": [],
   "source": [
    "# PUSH MODEL BACK TO CPU\n",
    "model = model.to('cuda')\n",
    "inputs = inputs.to('cpu')\n",
    "labels = labels.to('cpu')\n",
    "\n",
    "# SAVE MODEL\n",
    "path = './galaxy_cnet.pth'\n",
    "torch.save(model.state_dict, path)\n",
    "\n",
    "# CLEAR VRAM CACHE\n",
    "torch.cuda.empty_cache()"
   ]
  },
  {
   "cell_type": "code",
   "execution_count": 8,
   "metadata": {},
   "outputs": [],
   "source": [
    "from matplotlib import pyplot as plt\n",
    "import numpy as np\n",
    "\n"
   ]
  },
  {
   "cell_type": "code",
   "execution_count": 13,
   "metadata": {},
   "outputs": [
    {
     "data": {
      "text/plain": [
       "Text(0, 0.5, 'Loss')"
      ]
     },
     "execution_count": 13,
     "metadata": {},
     "output_type": "execute_result"
    },
    {
     "data": {
      "image/png": "[encoded data removed]",
      "text/plain": [
       "<Figure size 432x288 with 1 Axes>"
      ]
     },
     "metadata": {
      "needs_background": "light"
     },
     "output_type": "display_data"
    }
   ],
   "source": [
    "plt.plot(range(1,21),loss_vals)\n",
    "plt.xticks(range(1,21))\n",
    "plt.grid()\n",
    "plt.title(\"Training Data Loss over Epoch\")\n",
    "plt.xlabel(\"Epoch\")\n",
    "plt.ylabel(\"Loss\")\n"
   ]
  },
  {
   "cell_type": "code",
   "execution_count": null,
   "metadata": {},
   "outputs": [],
   "source": []
  }
 ],
 "metadata": {
  "kernelspec": {
   "display_name": "Python 3",
   "language": "python",
   "name": "python3"
  },
  "language_info": {
   "codemirror_mode": {
    "name": "ipython",
    "version": 3
   },
   "file_extension": ".py",
   "mimetype": "text/x-python",
   "name": "python",
   "nbconvert_exporter": "python",
   "pygments_lexer": "ipython3",
   "version": "3.8.3"
  }
 },
 "nbformat": 4,
 "nbformat_minor": 4
}
